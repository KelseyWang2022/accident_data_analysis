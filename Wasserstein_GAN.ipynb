{
  "nbformat": 4,
  "nbformat_minor": 0,
  "metadata": {
    "colab": {
      "provenance": [],
      "gpuType": "T4",
      "authorship_tag": "ABX9TyN/McHdkW0xl5ps125BBSYs",
      "include_colab_link": true
    },
    "kernelspec": {
      "name": "python3",
      "display_name": "Python 3"
    },
    "language_info": {
      "name": "python"
    },
    "accelerator": "GPU"
  },
  "cells": [
    {
      "cell_type": "markdown",
      "metadata": {
        "id": "view-in-github",
        "colab_type": "text"
      },
      "source": [
        "<a href=\"https://colab.research.google.com/github/KelseyWang2022/accident_data_analysis/blob/main/Wasserstein_GAN.ipynb\" target=\"_parent\"><img src=\"https://colab.research.google.com/assets/colab-badge.svg\" alt=\"Open In Colab\"/></a>"
      ]
    },
    {
      "cell_type": "code",
      "execution_count": 1,
      "metadata": {
        "colab": {
          "base_uri": "https://localhost:8080/"
        },
        "id": "C18YuzlgTi5U",
        "outputId": "04f71329-71df-4ccf-b38b-6551f7020da2"
      },
      "outputs": [
        {
          "output_type": "stream",
          "name": "stdout",
          "text": [
            "Using device: cuda\n",
            "Epoch [1/1000] | D Loss: -0.1780 | G Loss: 0.0038\n",
            "Epoch [100/1000] | D Loss: -0.0733 | G Loss: -0.0422\n",
            "Epoch [200/1000] | D Loss: -0.0371 | G Loss: -0.0106\n",
            "Epoch [300/1000] | D Loss: -0.1466 | G Loss: 0.0941\n",
            "Epoch [400/1000] | D Loss: -0.0204 | G Loss: -0.0083\n",
            "Epoch [500/1000] | D Loss: -0.1166 | G Loss: 0.0902\n",
            "Epoch [600/1000] | D Loss: -0.0466 | G Loss: 0.0141\n",
            "Epoch [700/1000] | D Loss: -0.0498 | G Loss: 0.0169\n",
            "Epoch [800/1000] | D Loss: -0.0391 | G Loss: 0.0110\n",
            "Epoch [900/1000] | D Loss: -0.0659 | G Loss: 0.0251\n",
            "Epoch [1000/1000] | D Loss: -0.0758 | G Loss: 0.0558\n",
            "\n",
            "平衡后的数据集已保存为 'balanced_accidents_dataset.csv'\n"
          ]
        }
      ],
      "source": [
        "import pandas as pd\n",
        "import numpy as np\n",
        "import torch\n",
        "import torch.nn as nn\n",
        "import torch.optim as optim\n",
        "from torch.utils.data import DataLoader, TensorDataset\n",
        "from sklearn.preprocessing import StandardScaler\n",
        "import os\n",
        "\n",
        "# 设置随机种子以确保结果可重复\n",
        "torch.manual_seed(42)\n",
        "np.random.seed(42)\n",
        "\n",
        "# 检查GPU是否可用\n",
        "device = torch.device(\"cuda\" if torch.cuda.is_available() else \"cpu\")\n",
        "print(f\"Using device: {device}\")\n",
        "\n",
        "# 1. 导入数据集\n",
        "file_path = '/content/cleaned_data_final.csv'\n",
        "\n",
        "if not os.path.exists(file_path):\n",
        "    raise FileNotFoundError(f\"文件路径 {file_path} 不存在。请检查路径是否正确。\")\n",
        "\n",
        "data = pd.read_csv(file_path)\n",
        "\n",
        "# 2. 合并类别0和3为\"severe/death\"\n",
        "data['grav_balanced'] = data['grav'].replace({0: 3, 3: 3})\n",
        "\n",
        "# 3. 数据预处理\n",
        "numeric_columns = data.select_dtypes(include=[np.number]).columns.tolist()\n",
        "if 'grav' in numeric_columns:\n",
        "    numeric_columns.remove('grav')  # 确保不包含目标列\n",
        "\n",
        "features = data[numeric_columns]\n",
        "scaler = StandardScaler()\n",
        "scaled_features = scaler.fit_transform(features)\n",
        "\n",
        "# 将特征转化为PyTorch tensor，并转移到GPU\n",
        "X = torch.tensor(scaled_features, dtype=torch.float32).to(device)\n",
        "y = torch.tensor(data['grav_balanced'].values, dtype=torch.float32).to(device)\n",
        "\n",
        "# 创建数据加载器\n",
        "dataset = TensorDataset(X, y)\n",
        "dataloader = DataLoader(dataset, batch_size=64, shuffle=True)\n",
        "\n",
        "# 4. 定义WGAN模型\n",
        "class Generator(nn.Module):\n",
        "    def __init__(self, input_dim, output_dim):\n",
        "        super(Generator, self).__init__()\n",
        "        self.model = nn.Sequential(\n",
        "            nn.Linear(input_dim, 128),\n",
        "            nn.LeakyReLU(0.2),\n",
        "            nn.Linear(128, 256),\n",
        "            nn.LeakyReLU(0.2),\n",
        "            nn.Linear(256, 512),\n",
        "            nn.LeakyReLU(0.2),\n",
        "            nn.Linear(512, output_dim),\n",
        "        )\n",
        "\n",
        "    def forward(self, z):\n",
        "        return self.model(z)\n",
        "\n",
        "class Discriminator(nn.Module):\n",
        "    def __init__(self, input_dim):\n",
        "        super(Discriminator, self).__init__()\n",
        "        self.model = nn.Sequential(\n",
        "            nn.Linear(input_dim, 512),\n",
        "            nn.LeakyReLU(0.2),\n",
        "            nn.Linear(512, 256),\n",
        "            nn.LeakyReLU(0.2),\n",
        "            nn.Linear(256, 1),\n",
        "        )\n",
        "\n",
        "    def forward(self, x):\n",
        "        return self.model(x)\n",
        "\n",
        "# 初始化模型权重\n",
        "def weights_init(m):\n",
        "    if isinstance(m, nn.Linear):\n",
        "        nn.init.normal_(m.weight.data, 0.0, 0.02)\n",
        "        if m.bias is not None:\n",
        "            nn.init.constant_(m.bias.data, 0)\n",
        "\n",
        "generator = Generator(100, X.shape[1]).to(device)\n",
        "discriminator = Discriminator(X.shape[1]).to(device)\n",
        "generator.apply(weights_init)\n",
        "discriminator.apply(weights_init)\n",
        "\n",
        "# 5. 设置超参数\n",
        "z_dim = 100\n",
        "lr = 1e-5  # 调低学习率\n",
        "n_epochs = 1000\n",
        "n_critic = 5\n",
        "clip_value = 0.01\n",
        "\n",
        "optimizer_G = optim.RMSprop(generator.parameters(), lr=lr)\n",
        "optimizer_D = optim.RMSprop(discriminator.parameters(), lr=lr)\n",
        "\n",
        "# 6. 训练WGAN\n",
        "for epoch in range(1, n_epochs + 1):\n",
        "    for i, (real_data, _) in enumerate(dataloader):\n",
        "        batch_size = real_data.size(0)\n",
        "        real_data = real_data.to(device)\n",
        "\n",
        "        # 训练判别器\n",
        "        for _ in range(n_critic):\n",
        "            optimizer_D.zero_grad()\n",
        "            real_output = discriminator(real_data)\n",
        "            real_loss = -torch.mean(real_output)\n",
        "\n",
        "            z = torch.randn(batch_size, z_dim).to(device)\n",
        "            fake_data = generator(z)\n",
        "            fake_output = discriminator(fake_data.detach())\n",
        "            fake_loss = torch.mean(fake_output)\n",
        "\n",
        "            d_loss = real_loss + fake_loss\n",
        "            d_loss.backward()\n",
        "            optimizer_D.step()\n",
        "\n",
        "            for p in discriminator.parameters():\n",
        "                p.data.clamp_(-clip_value, clip_value)\n",
        "\n",
        "        # 训练生成器\n",
        "        optimizer_G.zero_grad()\n",
        "        z = torch.randn(batch_size, z_dim).to(device)\n",
        "        fake_data = generator(z)\n",
        "        fake_output = discriminator(fake_data)\n",
        "        g_loss = -torch.mean(fake_output)\n",
        "        g_loss.backward()\n",
        "        optimizer_G.step()\n",
        "\n",
        "    if epoch % 100 == 0 or epoch == 1:\n",
        "        print(f\"Epoch [{epoch}/{n_epochs}] | D Loss: {d_loss.item():.4f} | G Loss: {g_loss.item():.4f}\")\n",
        "\n",
        "# 7. 生成合成数据\n",
        "desired_samples = max(data['grav_balanced'].value_counts().drop(3).values) - data['grav_balanced'].value_counts()[3]\n",
        "n_synthetic = int(desired_samples)\n",
        "\n",
        "z = torch.randn(n_synthetic, z_dim).to(device)\n",
        "with torch.no_grad():\n",
        "    synthetic_data = generator(z).cpu().numpy()\n",
        "\n",
        "# 还原到原始特征的尺度\n",
        "synthetic_data_original_scale = scaler.inverse_transform(synthetic_data)\n",
        "\n",
        "# 创建合成数据框架\n",
        "synthetic_df = pd.DataFrame(synthetic_data_original_scale, columns=numeric_columns)\n",
        "synthetic_df['grav_balanced'] = 3  # 添加合并后的类别\n",
        "\n",
        "# 8. 合并数据并保存\n",
        "balanced_data = pd.concat([data, synthetic_df], ignore_index=True)\n",
        "balanced_data.to_csv('balanced_accidents_dataset.csv', index=False)\n",
        "print(\"\\n平衡后的数据集已保存为 'balanced_accidents_dataset.csv'\")\n"
      ]
    },
    {
      "cell_type": "code",
      "source": [
        "data_1 = pd.read_csv('/content/balanced_accidents_dataset.csv')\n",
        "print(data_1.columns)"
      ],
      "metadata": {
        "colab": {
          "base_uri": "https://localhost:8080/"
        },
        "id": "cC8nbs69p9DV",
        "outputId": "7fc1275f-8862-40f3-8d8b-20d20f485c2e"
      },
      "execution_count": 3,
      "outputs": [
        {
          "output_type": "stream",
          "name": "stdout",
          "text": [
            "Index(['Unnamed: 0', 'Num_Acc', 'an', 'mois', 'jour', 'hrmn', 'lum', 'agg',\n",
            "       'int', 'atm', 'col', 'com', 'adr', 'gps', 'lat', 'long', 'dep',\n",
            "       'season', 'week', 'peak', 'nbv', 'catr', 'circ', 'vosp', 'prof', 'plan',\n",
            "       'surf', 'infra', 'situ', 'senc', 'catv', 'occutc', 'obs', 'obsm',\n",
            "       'choc', 'manv', 'num_veh_x', 'catu', 'grav', 'sexe', 'trajet', 'secu',\n",
            "       'an_nais', 'num_veh_y', 'age', 'year', 'grav_balanced'],\n",
            "      dtype='object')\n"
          ]
        }
      ]
    },
    {
      "cell_type": "code",
      "source": [
        "print(data_1['grav_balanced'].value_counts())"
      ],
      "metadata": {
        "colab": {
          "base_uri": "https://localhost:8080/"
        },
        "id": "8Vs55C5nqMh8",
        "outputId": "632cc4a8-721e-4cb0-e646-28b03e403c6e"
      },
      "execution_count": 5,
      "outputs": [
        {
          "output_type": "stream",
          "name": "stdout",
          "text": [
            "grav_balanced\n",
            "3    10399\n",
            "2    10399\n",
            "1    10194\n",
            "Name: count, dtype: int64\n"
          ]
        }
      ]
    },
    {
      "cell_type": "code",
      "source": [
        "\n",
        "import seaborn as sns\n",
        "import matplotlib.pyplot as plt\n",
        "#查看特征列名\n",
        "\n",
        "#统计年龄的分布\n",
        "sns.histplot(data_1['age'])\n",
        "plt.show()\n"
      ],
      "metadata": {
        "colab": {
          "base_uri": "https://localhost:8080/",
          "height": 449
        },
        "id": "wj8KcpjIqfMQ",
        "outputId": "5a7a1eb6-fd4d-4c05-c895-8e1e7e245ae3"
      },
      "execution_count": 6,
      "outputs": [
        {
          "output_type": "display_data",
          "data": {
            "text/plain": [
              "<Figure size 640x480 with 1 Axes>"
            ],
            "image/png": "[encoded data removed]"
          },
          "metadata": {}
        }
      ]
    },
    {
      "cell_type": "code",
      "source": [],
      "metadata": {
        "id": "ICLGm3U1qk-F"
      },
      "execution_count": null,
      "outputs": []
    }
  ]
}
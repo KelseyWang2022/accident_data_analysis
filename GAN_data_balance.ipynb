{
  "nbformat": 4,
  "nbformat_minor": 0,
  "metadata": {
    "colab": {
      "provenance": [],
      "authorship_tag": "ABX9TyNNW5huaKsiqYOGks3u0JjL",
      "include_colab_link": true
    },
    "kernelspec": {
      "name": "python3",
      "display_name": "Python 3"
    },
    "language_info": {
      "name": "python"
    }
  },
  "cells": [
    {
      "cell_type": "markdown",
      "metadata": {
        "id": "view-in-github",
        "colab_type": "text"
      },
      "source": [
        "<a href=\"https://colab.research.google.com/github/KelseyWang2022/accident_data_analysis/blob/main/GAN_data_balance.ipynb\" target=\"_parent\"><img src=\"https://colab.research.google.com/assets/colab-badge.svg\" alt=\"Open In Colab\"/></a>"
      ]
    },
    {
      "cell_type": "code",
      "source": [
        "!pip install pandas numpy torch sklearn matplotlib"
      ],
      "metadata": {
        "colab": {
          "base_uri": "https://localhost:8080/"
        },
        "id": "PHHRbrdmjObv",
        "outputId": "afdebdb2-0eb1-45b0-80bc-6f4439716cd3"
      },
      "execution_count": null,
      "outputs": [
        {
          "output_type": "stream",
          "name": "stdout",
          "text": [
            "Requirement already satisfied: pandas in /usr/local/lib/python3.10/dist-packages (2.1.4)\n",
            "Requirement already satisfied: numpy in /usr/local/lib/python3.10/dist-packages (1.26.4)\n",
            "Requirement already satisfied: torch in /usr/local/lib/python3.10/dist-packages (2.4.1+cu121)\n",
            "Collecting sklearn\n",
            "  Using cached sklearn-0.0.post12.tar.gz (2.6 kB)\n",
            "  \u001b[1;31merror\u001b[0m: \u001b[1msubprocess-exited-with-error\u001b[0m\n",
            "  \n",
            "  \u001b[31m×\u001b[0m \u001b[32mpython setup.py egg_info\u001b[0m did not run successfully.\n",
            "  \u001b[31m│\u001b[0m exit code: \u001b[1;36m1\u001b[0m\n",
            "  \u001b[31m╰─>\u001b[0m See above for output.\n",
            "  \n",
            "  \u001b[1;35mnote\u001b[0m: This error originates from a subprocess, and is likely not a problem with pip.\n",
            "  Preparing metadata (setup.py) ... \u001b[?25l\u001b[?25herror\n",
            "\u001b[1;31merror\u001b[0m: \u001b[1mmetadata-generation-failed\u001b[0m\n",
            "\n",
            "\u001b[31m×\u001b[0m Encountered error while generating package metadata.\n",
            "\u001b[31m╰─>\u001b[0m See above for output.\n",
            "\n",
            "\u001b[1;35mnote\u001b[0m: This is an issue with the package mentioned above, not pip.\n",
            "\u001b[1;36mhint\u001b[0m: See above for details.\n"
          ]
        }
      ]
    },
    {
      "cell_type": "code",
      "source": [],
      "metadata": {
        "colab": {
          "base_uri": "https://localhost:8080/"
        },
        "id": "JdOpNn0Wk5ZA",
        "outputId": "f9182175-defd-4cf1-f561-16630c7489aa"
      },
      "execution_count": null,
      "outputs": [
        {
          "output_type": "stream",
          "name": "stdout",
          "text": [
            "grav\n",
            "minor injury    10759\n",
            "no injury       10426\n",
            "severe           2916\n",
            "death              79\n",
            "Name: count, dtype: int64\n"
          ]
        }
      ]
    },
    {
      "cell_type": "code",
      "source": [
        "import pandas as pd\n",
        "import numpy as np\n",
        "import torch\n",
        "import torch.nn as nn\n",
        "import torch.optim as optim\n",
        "import matplotlib.pyplot as plt\n",
        "from sklearn.preprocessing import LabelEncoder\n",
        "\n",
        "# 加载数据\n",
        "file_path = r'/content/ordered_probit_data.csv'  # 根据实际路径调整\n",
        "chunk_size = 10000\n",
        "chunks = pd.read_csv(file_path, chunksize=chunk_size)\n",
        "\n",
        "# 处理并合并数据块\n",
        "data_list = []\n",
        "for chunk in chunks:\n",
        "    data_list.append(chunk)\n",
        "\n",
        "data = pd.concat(data_list, ignore_index=True)\n",
        "\n",
        "# 应用 Label Encoding 并填充缺失值\n",
        "categorical_cols = ['season', 'peak', 'circ', 'vosp', 'prof', 'plan', 'surf', 'infra', 'situ', 'grav']  # 移除 'grav'\n",
        "label_encoders = {}\n",
        "for col in categorical_cols:\n",
        "    le = LabelEncoder()\n",
        "    data[col] = le.fit_transform(data[col].astype(str))\n",
        "    label_encoders[col] = le\n",
        "\n",
        "# 填充缺失值\n",
        "data.fillna(data.mean(), inplace=True)\n",
        "\n",
        "# 正确映射 'grav' 列到 'grav_encoded'\n",
        "grav_mapping = {\n",
        "    0: 2,  # death -> 2\n",
        "    1: 1,  # minor injury -> 1\n",
        "    2: 0,  # no injury -> 0\n",
        "    3: 2   # severe -> 2\n",
        "}\n",
        "data['grav_encoded'] = data['grav'].map(grav_mapping)\n",
        "\n",
        "# 过滤类别2（severe + death）用于 GAN 生成\n",
        "class_2_data = data[data['grav_encoded'] == 2]\n",
        "X_class_2 = class_2_data.drop(columns=['grav', 'grav_encoded']).astype(np.float32)\n",
        "\n",
        "# 定义 GAN 的生成器和判别器\n",
        "class Generator(nn.Module):\n",
        "    def __init__(self, input_size, output_size):\n",
        "        super(Generator, self).__init__()\n",
        "        self.fc = nn.Sequential(\n",
        "            nn.Linear(input_size, 64),\n",
        "            nn.LeakyReLU(0.2),\n",
        "            nn.Linear(64, 128),\n",
        "            nn.LeakyReLU(0.2),\n",
        "            nn.Linear(128, output_size)\n",
        "        )\n",
        "        self.apply(self.init_weights)\n",
        "\n",
        "    def init_weights(self, m):\n",
        "        if isinstance(m, nn.Linear):\n",
        "            nn.init.kaiming_normal_(m.weight, nonlinearity='leaky_relu')\n",
        "\n",
        "    def forward(self, x):\n",
        "        return torch.clamp(self.fc(x), min=0.0, max=1.0)\n",
        "\n",
        "class Discriminator(nn.Module):\n",
        "    def __init__(self, input_size):\n",
        "        super(Discriminator, self).__init__()\n",
        "        self.fc = nn.Sequential(\n",
        "            nn.Linear(input_size, 128),\n",
        "            nn.LeakyReLU(0.2),\n",
        "            nn.Linear(128, 64),\n",
        "            nn.LeakyReLU(0.2),\n",
        "            nn.Linear(64, 1),\n",
        "            nn.Sigmoid()\n",
        "        )\n",
        "        self.apply(self.init_weights)\n",
        "\n",
        "    def init_weights(self, m):\n",
        "        if isinstance(m, nn.Linear):\n",
        "            nn.init.kaiming_normal_(m.weight, nonlinearity='leaky_relu')\n",
        "\n",
        "    def forward(self, x):\n",
        "        return self.fc(x)\n",
        "\n",
        "# 使用WGAN-GP方法，增加Gradient Penalty来改进训练\n",
        "def gradient_penalty(discriminator, real_data, fake_data, device):\n",
        "    batch_size = real_data.size(0)\n",
        "    epsilon = torch.rand(batch_size, 1, device=device)\n",
        "    epsilon = epsilon.expand_as(real_data)\n",
        "\n",
        "    interpolated = epsilon * real_data + (1 - epsilon) * fake_data\n",
        "    interpolated = interpolated.requires_grad_(True)\n",
        "\n",
        "    prob_interpolated = discriminator(interpolated)\n",
        "\n",
        "    gradients = torch.autograd.grad(outputs=prob_interpolated, inputs=interpolated,\n",
        "                                    grad_outputs=torch.ones(prob_interpolated.size()).to(device),\n",
        "                                    create_graph=True, retain_graph=True)[0]\n",
        "\n",
        "    gradients = gradients.view(batch_size, -1)\n",
        "    gradient_norm = gradients.norm(2, dim=1)\n",
        "\n",
        "    penalty = ((gradient_norm - 1) ** 2).mean()\n",
        "    return penalty\n",
        "\n",
        "# GAN 训练函数，加入梯度惩罚，retain_graph=True 确保不会释放图\n",
        "def train_gan(generator, discriminator, data, epochs=5000, batch_size=64, lambda_gp=10):\n",
        "    criterion = nn.BCELoss()\n",
        "    optimizer_g = torch.optim.Adam(generator.parameters(), lr=0.0001)\n",
        "    optimizer_d = torch.optim.Adam(discriminator.parameters(), lr=0.00005)\n",
        "    noise_size = 100\n",
        "    d_losses = []\n",
        "    g_losses = []\n",
        "\n",
        "    device = torch.device(\"cuda\" if torch.cuda.is_available() else \"cpu\")\n",
        "    generator.to(device)\n",
        "    discriminator.to(device)\n",
        "\n",
        "    # 如果样本数小于 batch_size，则调整 batch_size\n",
        "    if len(data) < batch_size:\n",
        "        batch_size = len(data)\n",
        "\n",
        "    for epoch in range(epochs):\n",
        "        # 生成真实数据\n",
        "        real_data = torch.tensor(data.sample(batch_size).values, dtype=torch.float32).to(device)\n",
        "        real_labels = torch.ones(batch_size, 1).to(device)\n",
        "        noise = torch.randn(batch_size, noise_size).to(device)\n",
        "        fake_data = generator(noise)\n",
        "        fake_labels = torch.zeros(batch_size, 1).to(device)\n",
        "\n",
        "        # 训练判别器，加入gradient penalty\n",
        "        optimizer_d.zero_grad()\n",
        "        outputs_real = discriminator(real_data)\n",
        "        outputs_fake = discriminator(fake_data.detach())\n",
        "        loss_real = criterion(outputs_real, real_labels)\n",
        "        loss_fake = criterion(outputs_fake, fake_labels)\n",
        "\n",
        "        # 计算梯度惩罚\n",
        "        gp = gradient_penalty(discriminator, real_data, fake_data, device)\n",
        "        d_loss = loss_real + loss_fake + lambda_gp * gp\n",
        "        d_loss.backward(retain_graph=True)  # 加入retain_graph\n",
        "        optimizer_d.step()\n",
        "\n",
        "        # 每隔5次训练判别器，生成器更新一次\n",
        "        if epoch % 5 == 0:\n",
        "            # 训练生成器\n",
        "            optimizer_g.zero_grad()\n",
        "            outputs_fake = discriminator(fake_data)\n",
        "            g_loss = criterion(outputs_fake, real_labels)\n",
        "            g_loss.backward(retain_graph=True)  # 加入retain_graph\n",
        "            optimizer_g.step()\n",
        "\n",
        "        # 记录损失\n",
        "        d_losses.append(d_loss.item())\n",
        "        g_losses.append(g_loss.item())\n",
        "\n",
        "        if epoch % 1000 == 0:\n",
        "            print(f\"Epoch [{epoch}/{epochs}] - D Loss: {d_loss.item()}, G Loss: {g_loss.item()}\")\n",
        "\n",
        "    # 绘制损失曲线\n",
        "    plt.figure(figsize=(10,5))\n",
        "    plt.plot(d_losses, label='Discriminator Loss')\n",
        "    plt.plot(g_losses, label='Generator Loss')\n",
        "    plt.xlabel('Epochs')\n",
        "    plt.ylabel('Loss')\n",
        "    plt.legend()\n",
        "    plt.title('GAN Losses with Gradient Penalty')\n",
        "    plt.show()\n",
        "\n",
        "    return generator\n",
        "\n",
        "# 初始化 GAN 组件\n",
        "input_size = X_class_2.shape[1]\n",
        "generator = Generator(100, input_size)\n",
        "discriminator = Discriminator(input_size)\n",
        "\n",
        "# 训练 GAN\n",
        "generator = train_gan(generator, discriminator, X_class_2)\n",
        "\n",
        "# 生成合成数据平衡类别2\n",
        "class_counts = data['grav_encoded'].value_counts()\n",
        "max_class_count = class_counts.max()\n",
        "class_2_count = class_counts.get(2, 0)\n",
        "needed_class_2_samples = max_class_count - class_2_count\n",
        "needed_class_2_samples = int(needed_class_2_samples) if needed_class_2_samples > 0 else 0\n",
        "\n",
        "\n",
        "\n",
        "print(f\"\\nMax class count: {max_class_count}\")\n",
        "print(f\"Class 2 count: {class_2_count}\")\n",
        "print(f\"Needed class 2 samples: {needed_class_2_samples}\")\n",
        "\n",
        "if needed_class_2_samples > 0:\n",
        "    noise = torch.randn(needed_class_2_samples, 100)\n",
        "    generated_data = generator(noise).detach().numpy()\n",
        "\n",
        "    generated_class_2 = pd.DataFrame(generated_data, columns=X_class_2.columns)\n",
        "    generated_class_2['grav_encoded'] = 2\n",
        "\n",
        "    balanced_data = pd.concat([data, generated_class_2], ignore_index=True)\n",
        "    print(\"Synthetic data generated and added to the dataset.\")\n",
        "else:\n",
        "    balanced_data = data.copy()\n",
        "    print(\"No additional samples needed for Class 2. Using original data as balanced_data.\")\n",
        "\n",
        "# 保存平衡后的数据为 CSV 文件\n",
        "balanced_data.to_csv(r'/content/balanced_data.csv', index=False)  # 根据需要调整路径\n"
      ],
      "metadata": {
        "colab": {
          "base_uri": "https://localhost:8080/",
          "height": 661
        },
        "id": "vvbhtZH4HDqD",
        "outputId": "4a3ad7ab-9f25-4e5f-a2b4-1290094ce742"
      },
      "execution_count": null,
      "outputs": [
        {
          "output_type": "stream",
          "name": "stdout",
          "text": [
            "Epoch [0/5000] - D Loss: 10.882976531982422, G Loss: 0.5869523882865906\n",
            "Epoch [1000/5000] - D Loss: 3.7135283946990967, G Loss: 1.2891764640808105\n",
            "Epoch [2000/5000] - D Loss: 2.458862543106079, G Loss: 1.1436550617218018\n",
            "Epoch [3000/5000] - D Loss: 2.187199592590332, G Loss: 1.3560508489608765\n",
            "Epoch [4000/5000] - D Loss: 1.9546771049499512, G Loss: 1.4361462593078613\n"
          ]
        },
        {
          "output_type": "display_data",
          "data": {
            "text/plain": [
              "<Figure size 1000x500 with 1 Axes>"
            ],
            "image/png": "[encoded data removed]"
          },
          "metadata": {}
        },
        {
          "output_type": "stream",
          "name": "stdout",
          "text": [
            "\n",
            "Max class count: 10759\n",
            "Class 2 count: 2995\n",
            "Needed class 2 samples: 7764\n",
            "Synthetic data generated and added to the dataset.\n"
          ]
        }
      ]
    },
    {
      "cell_type": "code",
      "source": [
        "#查看生成后的\n",
        "print(balanced_data['grav_encoded'].value_counts())"
      ],
      "metadata": {
        "colab": {
          "base_uri": "https://localhost:8080/"
        },
        "id": "8QMpcEZGjmwM",
        "outputId": "8aa526fe-2dea-482c-bf43-4bac00f127e4"
      },
      "execution_count": null,
      "outputs": [
        {
          "output_type": "stream",
          "name": "stdout",
          "text": [
            "grav_encoded\n",
            "2    10759\n",
            "1    10759\n",
            "0    10426\n",
            "Name: count, dtype: int64\n"
          ]
        }
      ]
    },
    {
      "cell_type": "code",
      "source": [
        "#查看grav原始值和映射值\n",
        "print(data['grav'].value_counts())\n",
        "print(data['grav_encoded'].value_counts())"
      ],
      "metadata": {
        "colab": {
          "base_uri": "https://localhost:8080/"
        },
        "id": "Hws5tZ5Tn9Tm",
        "outputId": "6f3c186d-fba0-4fc0-fbb1-e24565572393"
      },
      "execution_count": null,
      "outputs": [
        {
          "output_type": "stream",
          "name": "stdout",
          "text": [
            "grav\n",
            "1    10759\n",
            "2    10426\n",
            "3     2916\n",
            "0       79\n",
            "Name: count, dtype: int64\n",
            "grav_encoded\n",
            "1    10759\n",
            "0    10426\n",
            "2     2995\n",
            "Name: count, dtype: int64\n"
          ]
        }
      ]
    }
  ]
}